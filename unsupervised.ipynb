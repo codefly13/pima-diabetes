{
 "cells": [
  {
   "cell_type": "code",
   "execution_count": 1,
   "metadata": {
    "collapsed": true
   },
   "outputs": [],
   "source": [
    "import sklearn as sk\n",
    "from sklearn import cluster\n",
    "import pandas as pd\n",
    "import numpy as np\n",
    "from sklearn.metrics.pairwise import pairwise_distances_argmin\n",
    "from sklearn.metrics.pairwise import pairwise_distances\n",
    "%matplotlib inline"
   ]
  },
  {
   "cell_type": "code",
   "execution_count": 2,
   "metadata": {
    "collapsed": true
   },
   "outputs": [],
   "source": [
    "predata = pd.read_table('Pima-prediction-set.txt', header=None)\n",
    "data = pd.read_table('Pima-training-set.txt', header=None)"
   ]
  },
  {
   "cell_type": "code",
   "execution_count": 3,
   "metadata": {
    "collapsed": true
   },
   "outputs": [],
   "source": [
    "prey = predata[8].values\n",
    "preX = predata.ix[:, 0:7].values"
   ]
  },
  {
   "cell_type": "code",
   "execution_count": 4,
   "metadata": {
    "collapsed": true
   },
   "outputs": [],
   "source": [
    "y = data[8].values\n",
    "X_O = data.ix[:, 0:7].values"
   ]
  },
  {
   "cell_type": "code",
   "execution_count": null,
   "metadata": {
    "collapsed": false
   },
   "outputs": [],
   "source": [
    "help(sk.cluster.KMeans)"
   ]
  },
  {
   "cell_type": "code",
   "execution_count": null,
   "metadata": {
    "collapsed": false,
    "scrolled": true
   },
   "outputs": [],
   "source": [
    "fea = [5,1,6,7,4,0,3,2] # fisher\n",
    "for i in range(1, len(fea)+1):\n",
    "    max_s = 0\n",
    "    max_center = []\n",
    "    clf = sk.cluster.KMeans(n_clusters = 2, n_init = 130, n_jobs = 5)\n",
    "    clf.fit(X_O[:,fea[:i]])\n",
    "    \n",
    "    tlabel = pairwise_distances_argmin(X_O[:,fea[:i]], clf.cluster_centers_)\n",
    "#     tlabel = clf.predict(X_O[:,fea[:i]])\n",
    "    tlabel[tlabel==0] = 1 \n",
    "    tlabel[tlabel!=0] = 2 \n",
    "    trainacc = sum(tlabel == y) / len(y)\n",
    "    \n",
    "    plabel = pairwise_distances_argmin(preX[:,fea[:i]], clf.cluster_centers_)\n",
    "#     plabel = clf.predict(preX[:,fea[:i]])\n",
    "    plabel[plabel==0] = 1 \n",
    "    plabel[plabel!=0] = 2 \n",
    "    preacc = sum(plabel == prey) / len(prey)\n",
    "    \n",
    "    print(\"------------------------------------\")\n",
    "    print('fea: ', fea[:i])\n",
    "    print(clf.cluster_centers_)\n",
    "    print('train:', max(trainacc, 1-trainacc))\n",
    "    print('pre:  ', max(preacc, 1-preacc))"
   ]
  },
  {
   "cell_type": "code",
   "execution_count": 17,
   "metadata": {
    "collapsed": false
   },
   "outputs": [
    {
     "name": "stdout",
     "output_type": "stream",
     "text": [
      "------------------------------------\n",
      "fea:  [5]\n",
      "[[ 0.56097863]\n",
      " [ 0.38736054]]\n",
      "train: 0.626644736842\n",
      "pre:   0.5625\n",
      "------------------------------------\n",
      "fea:  [5, 1]\n",
      "[[ 0.44663414  0.5126274 ]\n",
      " [ 0.5294218   0.77292855]]\n",
      "train: 0.740131578947\n",
      "pre:   0.7375\n",
      "------------------------------------\n",
      "fea:  [5, 1, 6]\n",
      "[[ 0.53308758  0.76053512  0.22317857]\n",
      " [ 0.44247391  0.51389843  0.13312731]]\n",
      "train: 0.761513157895\n",
      "pre:   0.7375\n",
      "------------------------------------\n",
      "fea:  [5, 1, 6, 7]\n",
      "[[ 0.49481358  0.70231758  0.18237801  0.44378111]\n",
      " [ 0.46738704  0.55901125  0.15925088  0.09418513]]\n",
      "train: 0.697368421053\n",
      "pre:   0.7\n",
      "------------------------------------\n",
      "fea:  [5, 1, 6, 7, 4]\n",
      "[[ 0.46738704  0.55901125  0.15925088  0.09418513  0.09297692]\n",
      " [ 0.49481358  0.70231758  0.18237801  0.44378111  0.09286899]]\n",
      "train: 0.697368421053\n",
      "pre:   0.7\n",
      "------------------------------------\n",
      "fea:  [5, 1, 6, 7, 4, 0]\n",
      "[[ 0.47265258  0.58056867  0.16158619  0.09975433  0.09968286  0.11981517]\n",
      " [ 0.48415152  0.65866647  0.17764929  0.43250416  0.0792903   0.43634771]]\n",
      "train: 0.674342105263\n",
      "pre:   0.66875\n",
      "------------------------------------\n",
      "fea:  [5, 1, 6, 7, 4, 0, 3]\n",
      "[[ 0.47353248  0.57870662  0.16338826  0.10064728  0.09989901  0.1236438\n",
      "   0.22173167]\n",
      " [ 0.48259527  0.66457287  0.17427104  0.43911566  0.07831571  0.43637458\n",
      "   0.17279926]]\n",
      "train: 0.672697368421\n",
      "pre:   0.66875\n",
      "------------------------------------\n",
      "fea:  [5, 1, 6, 7, 4, 0, 3, 2]\n",
      "[[ 0.4720376   0.57963783  0.16322999  0.10077051  0.10025424  0.12322902\n",
      "   0.22123894  0.54032544]\n",
      " [ 0.48566803  0.66219422  0.174546    0.43714046  0.07768417  0.43565247\n",
      "   0.17407561  0.63168838]]\n",
      "train: 0.667763157895\n",
      "pre:   0.66875\n"
     ]
    }
   ],
   "source": [
    "fea = [5,1,6,7,4,0,3,2] # fisher\n",
    "for i in range(1, len(fea)+1):\n",
    "    max_s = 0\n",
    "    max_center = []\n",
    "    clf = sk.cluster.KMeans(n_clusters = 2, n_init = 130, algorithm='elkan', n_jobs = 5)\n",
    "    clf.fit(X_O[:,fea[:i]])\n",
    "    \n",
    "    tlabel = clf.predict(X_O[:,fea[:i]]) \n",
    "    tlabel[tlabel==0] = 2\n",
    "    trainacc = sum(tlabel == y) / len(y)\n",
    "    \n",
    "    plabel = clf.predict(preX[:,fea[:i]])\n",
    "    plabel[plabel==0] = 2 \n",
    "    preacc = sum(plabel == prey) / len(prey)\n",
    "    \n",
    "    print(\"------------------------------------\")\n",
    "    print('fea: ', fea[:i])\n",
    "    print(clf.cluster_centers_)\n",
    "    print('train:', max(trainacc, 1-trainacc))\n",
    "    print('pre:  ', max(preacc, 1-preacc))"
   ]
  },
  {
   "cell_type": "code",
   "execution_count": 20,
   "metadata": {
    "collapsed": false
   },
   "outputs": [
    {
     "name": "stdout",
     "output_type": "stream",
     "text": [
      "  pre:   0.68125\n"
     ]
    }
   ],
   "source": [
    "fea = np.array([5,1,6,7,4,0,3,2]) # fisher\n",
    "clf = sk.cluster.KMeans(n_clusters = 2, n_jobs = 5)\n",
    "clf.fit(X_O[:,fea[[4,0]]])\n",
    "plabel = clf.predict(preX[:,fea[[4,0]]])\n",
    "plabel += 1 \n",
    "score = sum(plabel == prey) / len(prey)\n",
    "print('  pre:  ', max(score, 1-score))"
   ]
  },
  {
   "cell_type": "code",
   "execution_count": 29,
   "metadata": {
    "collapsed": false
   },
   "outputs": [
    {
     "data": {
      "text/plain": [
       "-4.2106221060491444"
      ]
     },
     "execution_count": 29,
     "metadata": {},
     "output_type": "execute_result"
    }
   ],
   "source": [
    "clf.score(preX[:,fea[[4,0]]], y=prey-1)"
   ]
  },
  {
   "cell_type": "code",
   "execution_count": null,
   "metadata": {
    "collapsed": false
   },
   "outputs": [],
   "source": [
    "# prelabel2 = clf.predict(preX)\n",
    "prelabel2 += 1\n",
    "acc = sum(prelabel2 == prey) / len(prey)\n",
    "acc"
   ]
  },
  {
   "cell_type": "code",
   "execution_count": 5,
   "metadata": {
    "collapsed": false
   },
   "outputs": [],
   "source": [
    "cen = np.array([[ 0.44663414, 0.5126274 ], [ 0.5294218, 0.77292855]])"
   ]
  },
  {
   "cell_type": "code",
   "execution_count": 11,
   "metadata": {
    "collapsed": false
   },
   "outputs": [
    {
     "data": {
      "text/plain": [
       "array([[ 0.44663414,  0.5126274 ],\n",
       "       [ 0.5294218 ,  0.77292855]])"
      ]
     },
     "execution_count": 11,
     "metadata": {},
     "output_type": "execute_result"
    }
   ],
   "source": [
    "cen"
   ]
  },
  {
   "cell_type": "code",
   "execution_count": 15,
   "metadata": {
    "collapsed": false
   },
   "outputs": [
    {
     "data": {
      "text/plain": [
       "array([ 0.460507,  0.532663])"
      ]
     },
     "execution_count": 15,
     "metadata": {},
     "output_type": "execute_result"
    }
   ],
   "source": [
    "preX[0,[5, 1]]"
   ]
  },
  {
   "cell_type": "code",
   "execution_count": 6,
   "metadata": {
    "collapsed": false
   },
   "outputs": [],
   "source": [
    "D = pairwise_distances(preX[:, [5,1]], cen)"
   ]
  },
  {
   "cell_type": "code",
   "execution_count": 10,
   "metadata": {
    "collapsed": false
   },
   "outputs": [
    {
     "data": {
      "text/plain": [
       "array([[ 0.02436968,  0.24995356],\n",
       "       [ 0.20418009,  0.07544258],\n",
       "       [ 0.11527626,  0.19020722],\n",
       "       [ 0.14924033,  0.21790934],\n",
       "       [ 0.12596987,  0.38269738],\n",
       "       [ 0.15726844,  0.28039894],\n",
       "       [ 0.45380192,  0.55917289],\n",
       "       [ 0.22984814,  0.27670156],\n",
       "       [ 0.13114677,  0.15491392],\n",
       "       [ 0.18705663,  0.35147092],\n",
       "       [ 0.24194172,  0.30085316],\n",
       "       [ 0.17395192,  0.22046151],\n",
       "       [ 0.1300705 ,  0.32230286],\n",
       "       [ 0.26143186,  0.09276457],\n",
       "       [ 0.07581092,  0.27607283],\n",
       "       [ 0.23245782,  0.39428702],\n",
       "       [ 0.45067783,  0.56596225],\n",
       "       [ 0.09961867,  0.35350323],\n",
       "       [ 0.02716473,  0.24875799],\n",
       "       [ 0.20522181,  0.32735745],\n",
       "       [ 0.041379  ,  0.24833208],\n",
       "       [ 0.09727268,  0.18620219],\n",
       "       [ 0.08551363,  0.35511581],\n",
       "       [ 0.1056104 ,  0.37471701],\n",
       "       [ 0.03565491,  0.28132795],\n",
       "       [ 0.12885213,  0.14705002],\n",
       "       [ 0.10397865,  0.33946966],\n",
       "       [ 0.25123735,  0.02275864],\n",
       "       [ 0.05730915,  0.21588846],\n",
       "       [ 0.09443646,  0.18299086],\n",
       "       [ 0.06570588,  0.33452582],\n",
       "       [ 0.17519513,  0.14663022],\n",
       "       [ 0.18627241,  0.45885758],\n",
       "       [ 0.21110643,  0.10243019],\n",
       "       [ 0.14256819,  0.13559938],\n",
       "       [ 0.38160059,  0.21617612],\n",
       "       [ 0.09619497,  0.23037443],\n",
       "       [ 0.0914487 ,  0.30560982],\n",
       "       [ 0.16706167,  0.35108703],\n",
       "       [ 0.07013898,  0.32850754],\n",
       "       [ 0.1967912 ,  0.45948131],\n",
       "       [ 0.23414945,  0.0537074 ],\n",
       "       [ 0.12059877,  0.22232741],\n",
       "       [ 0.12048286,  0.2973151 ],\n",
       "       [ 0.13580265,  0.40544459],\n",
       "       [ 0.20355114,  0.09377532],\n",
       "       [ 0.10737098,  0.27518755],\n",
       "       [ 0.39435503,  0.12672723],\n",
       "       [ 0.07238655,  0.31770338],\n",
       "       [ 0.11532347,  0.15899747],\n",
       "       [ 0.10776188,  0.26156057],\n",
       "       [ 0.08143694,  0.31995851],\n",
       "       [ 0.1077279 ,  0.29615251],\n",
       "       [ 0.07558799,  0.31696691],\n",
       "       [ 0.07718082,  0.276898  ],\n",
       "       [ 0.02092453,  0.29209909],\n",
       "       [ 0.06757816,  0.32721698],\n",
       "       [ 0.16311215,  0.4175836 ],\n",
       "       [ 0.10224636,  0.33602497],\n",
       "       [ 0.01598689,  0.26069593],\n",
       "       [ 0.05035317,  0.32096322],\n",
       "       [ 0.12036279,  0.33415344],\n",
       "       [ 0.30124395,  0.07575539],\n",
       "       [ 0.11530018,  0.35631097],\n",
       "       [ 0.23280273,  0.04371722],\n",
       "       [ 0.06614421,  0.31905819],\n",
       "       [ 0.16187966,  0.16454998],\n",
       "       [ 0.25960004,  0.01413915],\n",
       "       [ 0.19910179,  0.33803005],\n",
       "       [ 0.15280647,  0.38601543],\n",
       "       [ 0.21573974,  0.17188991],\n",
       "       [ 0.19571156,  0.18873228],\n",
       "       [ 0.07256517,  0.30319088],\n",
       "       [ 0.1137498 ,  0.36734116],\n",
       "       [ 0.27077873,  0.4020179 ],\n",
       "       [ 0.07294573,  0.34543748],\n",
       "       [ 0.27024503,  0.09920088],\n",
       "       [ 0.30078072,  0.57367944],\n",
       "       [ 0.10355512,  0.24061281],\n",
       "       [ 0.07031638,  0.31039014],\n",
       "       [ 0.15883901,  0.38151993],\n",
       "       [ 0.12201352,  0.17284914],\n",
       "       [ 0.18713997,  0.08668284],\n",
       "       [ 0.05745469,  0.27097113],\n",
       "       [ 0.08743727,  0.35174634],\n",
       "       [ 0.05651614,  0.32941377],\n",
       "       [ 0.09707179,  0.34257232],\n",
       "       [ 0.06336617,  0.28138496],\n",
       "       [ 0.15686663,  0.18162271],\n",
       "       [ 0.08003954,  0.22530978],\n",
       "       [ 0.2963584 ,  0.04770367],\n",
       "       [ 0.28891588,  0.12384995],\n",
       "       [ 0.16393554,  0.39180766],\n",
       "       [ 0.14186856,  0.13577517],\n",
       "       [ 0.07661355,  0.27106392],\n",
       "       [ 0.06230846,  0.22309598],\n",
       "       [ 0.22068802,  0.07482859],\n",
       "       [ 0.20997636,  0.18386191],\n",
       "       [ 0.23009619,  0.48818762],\n",
       "       [ 0.4592818 ,  0.25625476],\n",
       "       [ 0.12901102,  0.21156963],\n",
       "       [ 0.04703221,  0.30620335],\n",
       "       [ 0.35502009,  0.15761501],\n",
       "       [ 0.12066407,  0.16531329],\n",
       "       [ 0.04834975,  0.31128044],\n",
       "       [ 0.1167365 ,  0.15909379],\n",
       "       [ 0.30542142,  0.09901427],\n",
       "       [ 0.35674215,  0.12973261],\n",
       "       [ 0.21238587,  0.07649685],\n",
       "       [ 0.41893158,  0.23388254],\n",
       "       [ 0.09372333,  0.22522706],\n",
       "       [ 0.05825524,  0.24614181],\n",
       "       [ 0.06146791,  0.33230898],\n",
       "       [ 0.48250161,  0.21736876],\n",
       "       [ 0.23734218,  0.04093356],\n",
       "       [ 0.34791748,  0.32418776],\n",
       "       [ 0.11519264,  0.16589487],\n",
       "       [ 0.24514929,  0.16194929],\n",
       "       [ 0.04367891,  0.26328638],\n",
       "       [ 0.32012538,  0.04812826],\n",
       "       [ 0.43107074,  0.16851796],\n",
       "       [ 0.20104316,  0.09672416],\n",
       "       [ 0.01238203,  0.26971688],\n",
       "       [ 0.05669099,  0.23677558],\n",
       "       [ 0.3612594 ,  0.09978372],\n",
       "       [ 0.47062122,  0.20202309],\n",
       "       [ 0.14567205,  0.18449179],\n",
       "       [ 0.12796752,  0.30781098],\n",
       "       [ 0.2007369 ,  0.14071157],\n",
       "       [ 0.46133008,  0.54886326],\n",
       "       [ 0.14256956,  0.15997434],\n",
       "       [ 0.17996665,  0.09957875],\n",
       "       [ 0.58818579,  0.37937839],\n",
       "       [ 0.43315528,  0.17964469],\n",
       "       [ 0.45137693,  0.56420552],\n",
       "       [ 0.08670285,  0.35920233],\n",
       "       [ 0.28471302,  0.04440992],\n",
       "       [ 0.26809157,  0.12624492],\n",
       "       [ 0.1617247 ,  0.1116595 ],\n",
       "       [ 0.50805229,  0.25205382],\n",
       "       [ 0.08284483,  0.29564477],\n",
       "       [ 0.30742986,  0.07450892],\n",
       "       [ 0.42413852,  0.15203352],\n",
       "       [ 0.43712595,  0.19442279],\n",
       "       [ 0.35020555,  0.092511  ],\n",
       "       [ 0.27085424,  0.03368031],\n",
       "       [ 0.09273165,  0.18102874],\n",
       "       [ 0.40180397,  0.14813724],\n",
       "       [ 0.29042797,  0.18768679],\n",
       "       [ 0.18517615,  0.20110273],\n",
       "       [ 0.40664281,  0.13673418],\n",
       "       [ 0.25898433,  0.02173583],\n",
       "       [ 0.42511129,  0.15328063],\n",
       "       [ 0.1717719 ,  0.11029651],\n",
       "       [ 0.35253196,  0.08027463],\n",
       "       [ 0.15689231,  0.11637951],\n",
       "       [ 0.12703734,  0.21283428],\n",
       "       [ 0.29149996,  0.08107536],\n",
       "       [ 0.19591614,  0.10451491],\n",
       "       [ 0.26374146,  0.0465703 ]])"
      ]
     },
     "execution_count": 10,
     "metadata": {},
     "output_type": "execute_result"
    }
   ],
   "source": [
    "D"
   ]
  },
  {
   "cell_type": "code",
   "execution_count": 7,
   "metadata": {
    "collapsed": false
   },
   "outputs": [
    {
     "data": {
      "text/plain": [
       "array([False,  True, False, False, False, False, False, False, False,\n",
       "       False, False, False, False,  True, False, False, False, False,\n",
       "       False, False, False, False, False, False, False, False, False,\n",
       "        True, False, False, False,  True, False,  True,  True,  True,\n",
       "       False, False, False, False, False,  True, False, False, False,\n",
       "        True, False,  True, False, False, False, False, False, False,\n",
       "       False, False, False, False, False, False, False, False,  True,\n",
       "       False,  True, False, False,  True, False, False,  True,  True,\n",
       "       False, False, False, False,  True, False, False, False, False,\n",
       "       False,  True, False, False, False, False, False, False, False,\n",
       "        True,  True, False,  True, False, False,  True,  True, False,\n",
       "        True, False, False,  True, False, False, False,  True,  True,\n",
       "        True,  True, False, False, False,  True,  True,  True, False,\n",
       "        True, False,  True,  True,  True, False, False,  True,  True,\n",
       "       False, False,  True, False, False,  True,  True,  True, False,\n",
       "       False,  True,  True,  True,  True, False,  True,  True,  True,\n",
       "        True,  True, False,  True,  True, False,  True,  True,  True,\n",
       "        True,  True,  True, False,  True,  True,  True], dtype=bool)"
      ]
     },
     "execution_count": 7,
     "metadata": {},
     "output_type": "execute_result"
    }
   ],
   "source": [
    "label = D[:,0] - D[:,1]\n",
    "tmp = label>=0\n",
    "tmp"
   ]
  },
  {
   "cell_type": "code",
   "execution_count": 8,
   "metadata": {
    "collapsed": false
   },
   "outputs": [
    {
     "data": {
      "text/plain": [
       "array([ 2.,  1.,  2.,  2.,  2.,  2.,  2.,  2.,  2.,  2.,  2.,  2.,  2.,\n",
       "        1.,  2.,  2.,  2.,  2.,  2.,  2.,  2.,  2.,  2.,  2.,  2.,  2.,\n",
       "        2.,  1.,  2.,  2.,  2.,  1.,  2.,  1.,  1.,  1.,  2.,  2.,  2.,\n",
       "        2.,  2.,  1.,  2.,  2.,  2.,  1.,  2.,  1.,  2.,  2.,  2.,  2.,\n",
       "        2.,  2.,  2.,  2.,  2.,  2.,  2.,  2.,  2.,  2.,  1.,  2.,  1.,\n",
       "        2.,  2.,  1.,  2.,  2.,  1.,  1.,  2.,  2.,  2.,  2.,  1.,  2.,\n",
       "        2.,  2.,  2.,  2.,  1.,  2.,  2.,  2.,  2.,  2.,  2.,  2.,  1.,\n",
       "        1.,  2.,  1.,  2.,  2.,  1.,  1.,  2.,  1.,  2.,  2.,  1.,  2.,\n",
       "        2.,  2.,  1.,  1.,  1.,  1.,  2.,  2.,  2.,  1.,  1.,  1.,  2.,\n",
       "        1.,  2.,  1.,  1.,  1.,  2.,  2.,  1.,  1.,  2.,  2.,  1.,  2.,\n",
       "        2.,  1.,  1.,  1.,  2.,  2.,  1.,  1.,  1.,  1.,  2.,  1.,  1.,\n",
       "        1.,  1.,  1.,  2.,  1.,  1.,  2.,  1.,  1.,  1.,  1.,  1.,  1.,\n",
       "        2.,  1.,  1.,  1.])"
      ]
     },
     "execution_count": 8,
     "metadata": {},
     "output_type": "execute_result"
    }
   ],
   "source": [
    "label[tmp] = 1\n",
    "label[~tmp] = 2\n",
    "label"
   ]
  },
  {
   "cell_type": "code",
   "execution_count": 23,
   "metadata": {
    "collapsed": false
   },
   "outputs": [
    {
     "name": "stdout",
     "output_type": "stream",
     "text": [
      "Help on method score in module sklearn.cluster.k_means_:\n",
      "\n",
      "score(X, y=None) method of sklearn.cluster.k_means_.KMeans instance\n",
      "    Opposite of the value of X on the K-means objective.\n",
      "    \n",
      "    Parameters\n",
      "    ----------\n",
      "    X : {array-like, sparse matrix}, shape = [n_samples, n_features]\n",
      "        New data.\n",
      "    \n",
      "    Returns\n",
      "    -------\n",
      "    score : float\n",
      "        Opposite of the value of X on the K-means objective.\n",
      "\n"
     ]
    }
   ],
   "source": [
    "help(clf.score)"
   ]
  }
 ],
 "metadata": {
  "kernelspec": {
   "display_name": "Python 3",
   "language": "python",
   "name": "python3"
  },
  "language_info": {
   "codemirror_mode": {
    "name": "ipython",
    "version": 3
   },
   "file_extension": ".py",
   "mimetype": "text/x-python",
   "name": "python",
   "nbconvert_exporter": "python",
   "pygments_lexer": "ipython3",
   "version": "3.4.3"
  }
 },
 "nbformat": 4,
 "nbformat_minor": 0
}
